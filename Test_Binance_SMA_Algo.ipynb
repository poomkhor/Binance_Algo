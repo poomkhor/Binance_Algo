{
 "cells": [
  {
   "cell_type": "code",
   "execution_count": null,
   "id": "188fe28a",
   "metadata": {
    "scrolled": true
   },
   "outputs": [],
   "source": [
    "# set Environment Variable in jupyter notebook using magic command %env\n",
    "# %env to see environment variable available\n",
    "# %env MY_VAR=MY_VALUE to set environment variable\n",
    "\n",
    "import os\n",
    "import time\n",
    "import datetime as dt\n",
    "import pandas as pd\n",
    "from binance.client import Client\n",
    "from binance import ThreadedWebsocketManager, BinanceSocketManager\n",
    "from binance.enums import *\n",
    "from twisted.internet import reactor"
   ]
  },
  {
   "cell_type": "code",
   "execution_count": null,
   "id": "7845132b",
   "metadata": {},
   "outputs": [],
   "source": [
    "# https://testnet.binance.vision/  >> for test API\n",
    "\n",
    "# api_key = os.environ.get('test_binance_api')\n",
    "# api_secret = os.environ.get('test_binance_secret')\n",
    "\n",
    "api_key = 'UeRMEYWx3LWuWFFt47Y5jd94j9w2qCQtWqSJfSySz4PLjbH7gkzwPZX7Nh9mxEnl'\n",
    "api_secret = '9oCJjPb9Hxb9czkTnjXRXRTWGkUh2RbVbaLyFW3uz3lAv3uZBSvs9MhshttEDSLW'"
   ]
  },
  {
   "cell_type": "code",
   "execution_count": null,
   "id": "26ead988",
   "metadata": {},
   "outputs": [],
   "source": [
    "client = Client(api_key, api_secret, testnet=True)\n",
    "btc_price = {}"
   ]
  },
  {
   "cell_type": "code",
   "execution_count": null,
   "id": "9c41ce10",
   "metadata": {},
   "outputs": [],
   "source": [
    "def handle_socket_message(msg):\n",
    "    ''' define how to process incoming WebSocket messages '''\n",
    "    if msg['e'] != 'error':\n",
    "        btc_price['close'] = msg['k']['c']\n",
    "        btc_price['high'] = msg['k']['h']\n",
    "        btc_price['low'] = msg['k']['l']\n",
    "        btc_price['volume'] = msg['k']['v']\n",
    "    else:\n",
    "        btc_price['error'] = True\n",
    "        \n",
    "    print(btc_price['close'])"
   ]
  },
  {
   "cell_type": "code",
   "execution_count": null,
   "id": "5423c94c",
   "metadata": {},
   "outputs": [],
   "source": [
    "# def handle_socket_message(msg):\n",
    "#     ''' define how to process incoming WebSocket messages '''\n",
    "#     print(f\"message type: {msg['e']}\")\n",
    "#     print(msg)"
   ]
  },
  {
   "cell_type": "code",
   "execution_count": null,
   "id": "b27bd06f",
   "metadata": {
    "scrolled": false
   },
   "outputs": [],
   "source": [
    "symbol = 'BTCUSDT'\n",
    "twm = ThreadedWebsocketManager(api_key=api_key, api_secret=api_secret, testnet=True)\n",
    "twm.start()\n",
    "connection = twm.start_kline_socket(callback=handle_socket_message, symbol=symbol)"
   ]
  },
  {
   "cell_type": "code",
   "execution_count": null,
   "id": "794ed11c",
   "metadata": {},
   "outputs": [],
   "source": [
    "twm.stop_socket(connection)\n",
    "# reactor.stop()"
   ]
  },
  {
   "cell_type": "code",
   "execution_count": null,
   "id": "14b8fdce",
   "metadata": {},
   "outputs": [],
   "source": [
    "twm.is_alive()"
   ]
  },
  {
   "cell_type": "markdown",
   "id": "b5c94ff0",
   "metadata": {},
   "source": [
    "### Binance SMA Strategy Testing"
   ]
  },
  {
   "cell_type": "code",
   "execution_count": null,
   "id": "823627bd",
   "metadata": {},
   "outputs": [],
   "source": [
    "#write algo class for simple SMA including data resampling\n",
    "\n",
    "# connection for streaming and place order\n",
    "# symbol, units, buy_order, sell_order,\n",
    "# self.data = pd.DataFrame()\n",
    "# self.ticks = 0\n",
    "# self.position = 0\n",
    "\n",
    "\n",
    "'''for threaded websocket manager the connection requires api_key and api_secret instead of client arg*\n",
    "declare self.con init as a threadedWebsocketMaager directly, do not have to declare client first\n",
    "ThreadedWebsocketManager is an asynchronous. Once connection start can directly callback function which \n",
    "is SMA_trade receiving msg and directly append to dataframe then process the strategy before firing the order\n",
    "'''    \n",
    "api_key = 'UeRMEYWx3LWuWFFt47Y5jd94j9w2qCQtWqSJfSySz4PLjbH7gkzwPZX7Nh9mxEnl'\n",
    "api_secret = '9oCJjPb9Hxb9czkTnjXRXRTWGkUh2RbVbaLyFW3uz3lAv3uZBSvs9MhshttEDSLW'\n",
    "\n",
    "class SMATrading:\n",
    "    \n",
    "    def __init__(self, symbol, units):\n",
    "#         initializing the trading class\n",
    "        self.con = ThreadedWebsocketManager(api_key=api_key, api_secret=api_secret, testnet=True)\n",
    "        self.client = Client(api_key, api_secret, testnet = True)\n",
    "        self.symbol = str(symbol)\n",
    "        self.units = int(units)\n",
    "#         self.buy_order = self.con.order_market_buy(self.symbol, self.units)\n",
    "#         self.sell_order = self.con.order_market_sell(self.symbol, self.units)\n",
    "        self.data = pd.DataFrame()\n",
    "        self.ticks = 0\n",
    "        self.position = 0\n",
    "        self.timestamp = dt.datetime.now()\n",
    "    \n",
    "    def streaming(self):\n",
    "        self.con.start()\n",
    "        connection = self.con.start_kline_socket(callback=self.SMA_Trade, symbol = self.symbol)\n",
    "        \n",
    "#     def handle_mssg(self, msg):\n",
    "#         ''' define how to process incoming WebSocket messages '''\n",
    "# #         need to define the data structure for msg\n",
    "#         if msg['e'] != 'error':\n",
    "#             btc_price['close'] = msg['k']['c']\n",
    "#             btc_price['high'] = msg['k']['h']\n",
    "#             btc_price['low'] = msg['k']['l']\n",
    "#             btc_price['volume'] = msg['k']['v']\n",
    "#         else:\n",
    "#             btc_price['error'] = True\n",
    "    \n",
    "    def SMA_Trade(self, msg):\n",
    "        if msg['e'] != 'error':\n",
    "            kline = msg['k']\n",
    "            Close = kline['c']\n",
    "            self.ticks += 1\n",
    "            self.data = self.data.append(pd.DataFrame({'Close': kline['c']}, index = [self.timestamp]), sort = True)\n",
    "            \n",
    "        self.data['SMA1'] = self.data['Close'].rolling(5).mean().round(2)\n",
    "        self.data['SMA2'] = self.data['Close'].rolling(10).mean().round(2)\n",
    "        \n",
    "        SMA1 = self.data['SMA1'][-1]\n",
    "        SMA2 = self.data['SMA2'][-1]\n",
    "        print(f'{self.ticks} | {self.timestamp} | {Close} | SMA1 {SMA1} | SMA2 {SMA2}')\n",
    "        \n",
    "        '''\n",
    "        still missing data resampling in this code, need to adjust after connection testing complete\n",
    "                \n",
    "        '''\n",
    "        \n",
    "        if (self.data['SMA1'].iloc[-1] > self.data['SMA2'].iloc[-1]) and (self.position == 0):\n",
    "            self.data['Signal'] = 1\n",
    "            print('Create | BUY ORDER')\n",
    "            Symbol = self.symbol\n",
    "            self.order = self.client.create_test_order(\n",
    "            symbol = 'BTCUSDT',\n",
    "            side = SIDE_BUY,\n",
    "            type = ORDER_TYPE_LIMIT,\n",
    "            timeInForce = TIME_IN_FORCE_GTC,\n",
    "            quantity = self.units,\n",
    "            price = self.data['Close'][-1]\n",
    "            )\n",
    "            self.position = 1\n",
    "        \n",
    "        elif (self.data['SMA1'].iloc[-1] < self.data['SMA2'].iloc[-1]) and (self.position == 1):\n",
    "            self.data['Signal'] = -1\n",
    "            print('Create | SELL ORDER')\n",
    "            Symbol = self.symbol\n",
    "            self.order = self.client.create_test_order(\n",
    "            symbol = 'BTCUSDT',\n",
    "            side = SIDE_SELL,\n",
    "            type = ORDER_TYPE_LIMIT,\n",
    "            timeInForce = TIME_IN_FORCE_GTC,\n",
    "            quantity = self.units,\n",
    "            price = self.data['Close'][-1]\n",
    "            )\n",
    "            self.position = 0\n",
    "    \n",
    "    def stop_strategy(self):\n",
    "        self.con.stop()\n",
    "    \n",
    "# if __name__ == '__main__':\n",
    "#     sma = SMATrading('BTC', 2000)\n",
    "#     time.sleep(7)\n",
    "#     sma.streaming()\n",
    "#     while sma.con.is_alive():\n",
    "#         pass\n",
    "        \n",
    "\n",
    "# adjust to include Trading ID and filled price\n",
    "# adjust to include method to easily request historical trade\n",
    "# adjust create_test_order to be able to take self.symbol, self.units\n",
    "# adjust class SMATrading to be able to input SMA1, SMA2 args plus condition to check SMA1 to be less than SMA2\n",
    "# prevent order from firing after the first SMA has been calculated\n",
    "\n",
    "# backtesting class to find the best optimal SMA combinations.\n",
    "# check timestamp since it remains the same throughout the connection"
   ]
  },
  {
   "cell_type": "code",
   "execution_count": null,
   "id": "6fa51f20",
   "metadata": {},
   "outputs": [],
   "source": [
    "sma = SMATrading('BTCUSDT', 200)"
   ]
  },
  {
   "cell_type": "code",
   "execution_count": null,
   "id": "4b1b798f",
   "metadata": {
    "scrolled": true
   },
   "outputs": [],
   "source": [
    "sma.streaming()"
   ]
  },
  {
   "cell_type": "code",
   "execution_count": null,
   "id": "a42c64b3",
   "metadata": {},
   "outputs": [],
   "source": [
    "sma.stop_strategy()"
   ]
  },
  {
   "cell_type": "code",
   "execution_count": null,
   "id": "df6811f8",
   "metadata": {},
   "outputs": [],
   "source": [
    "sma.client.get_historical_trades(symbol='BTCUSDT')"
   ]
  },
  {
   "cell_type": "code",
   "execution_count": null,
   "id": "70c7fe0f",
   "metadata": {},
   "outputs": [],
   "source": [
    "help(BinanceSocketManager)"
   ]
  },
  {
   "cell_type": "code",
   "execution_count": null,
   "id": "07190137",
   "metadata": {},
   "outputs": [],
   "source": [
    "help(ThreadedWebsocketManager)"
   ]
  },
  {
   "cell_type": "code",
   "execution_count": null,
   "id": "43db86df",
   "metadata": {},
   "outputs": [],
   "source": [
    "help(Client)"
   ]
  },
  {
   "cell_type": "code",
   "execution_count": null,
   "id": "6044dad4",
   "metadata": {},
   "outputs": [],
   "source": []
  }
 ],
 "metadata": {
  "kernelspec": {
   "display_name": "Python 3",
   "language": "python",
   "name": "python3"
  },
  "language_info": {
   "codemirror_mode": {
    "name": "ipython",
    "version": 3
   },
   "file_extension": ".py",
   "mimetype": "text/x-python",
   "name": "python",
   "nbconvert_exporter": "python",
   "pygments_lexer": "ipython3",
   "version": "3.8.8"
  }
 },
 "nbformat": 4,
 "nbformat_minor": 5
}
